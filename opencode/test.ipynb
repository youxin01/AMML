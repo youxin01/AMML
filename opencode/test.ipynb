{
 "cells": [
  {
   "cell_type": "code",
   "execution_count": null,
   "id": "01bbfc96",
   "metadata": {},
   "outputs": [
    {
     "name": "stderr",
     "output_type": "stream",
     "text": [
      "\u001b[32m2025-05-29 01:31:11.335\u001b[0m | \u001b[1mINFO    \u001b[0m | \u001b[36mlocal_interpreter\u001b[0m:\u001b[36mexecute_code\u001b[0m:\u001b[36m61\u001b[0m - \u001b[1m执行代码: print('hello world')\u001b[0m\n",
      "\u001b[32m2025-05-29 01:33:21.840\u001b[0m | \u001b[1mINFO    \u001b[0m | \u001b[36mlocal_interpreter\u001b[0m:\u001b[36minitialize\u001b[0m:\u001b[36m33\u001b[0m - \u001b[1m初始化本地内核\u001b[0m\n",
      "\u001b[32m2025-05-29 01:33:22.640\u001b[0m | \u001b[1mINFO    \u001b[0m | \u001b[36mlocal_interpreter\u001b[0m:\u001b[36mexecute_code_\u001b[0m:\u001b[36m141\u001b[0m - \u001b[1m执行代码: import os\n",
      "work_dir = r'./work'\n",
      "os.makedirs(work_dir, exist_ok=True)\n",
      "os.chdir(work_dir)\n",
      "print('当前工作目录:', os.getcwd())\n",
      "import matplotlib.pyplot as plt\n",
      "import matplotlib as mpl\n",
      "plt.rcParams['font.sans-serif'] = ['Arial Unicode MS', 'SimHei', 'Microsoft YaHei', 'WenQuanYi Micro Hei', 'PingFang SC', 'Hiragino Sans GB', 'Heiti SC', 'DejaVu Sans', 'sans-serif']\n",
      "plt.rcParams['axes.unicode_minus'] = False\n",
      "plt.rcParams['font.family'] = 'sans-serif'\n",
      "mpl.rcParams['font.size'] = 12\n",
      "mpl.rcParams['axes.labelsize'] = 12\n",
      "mpl.rcParams['xtick.labelsize'] = 10\n",
      "mpl.rcParams['ytick.labelsize'] = 10\n",
      "\u001b[0m\n",
      "\u001b[32m2025-05-29 01:35:19.832\u001b[0m | \u001b[1mINFO    \u001b[0m | \u001b[36mlocal_interpreter\u001b[0m:\u001b[36mexecute_code\u001b[0m:\u001b[36m61\u001b[0m - \u001b[1m执行代码: print('hello world')\u001b[0m\n",
      "\u001b[32m2025-05-29 01:35:19.836\u001b[0m | \u001b[1mINFO    \u001b[0m | \u001b[36mlocal_interpreter\u001b[0m:\u001b[36mexecute_code\u001b[0m:\u001b[36m75\u001b[0m - \u001b[1m开始在本地执行代码...\u001b[0m\n",
      "\u001b[32m2025-05-29 01:35:19.838\u001b[0m | \u001b[1mINFO    \u001b[0m | \u001b[36mlocal_interpreter\u001b[0m:\u001b[36mexecute_code_\u001b[0m:\u001b[36m141\u001b[0m - \u001b[1m执行代码: print('hello world')\u001b[0m\n",
      "\u001b[32m2025-05-29 01:35:19.845\u001b[0m | \u001b[1mINFO    \u001b[0m | \u001b[36mlocal_interpreter\u001b[0m:\u001b[36mexecute_code\u001b[0m:\u001b[36m78\u001b[0m - \u001b[1m代码执行完成，开始处理结果...\u001b[0m\n",
      "\u001b[32m2025-05-29 01:35:19.858\u001b[0m | \u001b[1mINFO    \u001b[0m | \u001b[36mlocal_interpreter\u001b[0m:\u001b[36mexecute_code\u001b[0m:\u001b[36m128\u001b[0m - \u001b[1mtext_to_gpt: ['[stdout]\\nhello world\\n']\u001b[0m\n",
      "\u001b[32m2025-05-29 01:38:37.646\u001b[0m | \u001b[1mINFO    \u001b[0m | \u001b[36mlocal_interpreter\u001b[0m:\u001b[36mexecute_code\u001b[0m:\u001b[36m61\u001b[0m - \u001b[1m执行代码: print('hello world')\u001b[0m\n",
      "\u001b[32m2025-05-29 01:38:37.651\u001b[0m | \u001b[1mINFO    \u001b[0m | \u001b[36mlocal_interpreter\u001b[0m:\u001b[36mexecute_code\u001b[0m:\u001b[36m75\u001b[0m - \u001b[1m开始在本地执行代码...\u001b[0m\n",
      "\u001b[32m2025-05-29 01:38:37.652\u001b[0m | \u001b[1mINFO    \u001b[0m | \u001b[36mlocal_interpreter\u001b[0m:\u001b[36mexecute_code_\u001b[0m:\u001b[36m141\u001b[0m - \u001b[1m执行代码: print('hello world')\u001b[0m\n",
      "\u001b[32m2025-05-29 01:38:37.660\u001b[0m | \u001b[1mINFO    \u001b[0m | \u001b[36mlocal_interpreter\u001b[0m:\u001b[36mexecute_code\u001b[0m:\u001b[36m78\u001b[0m - \u001b[1m代码执行完成，开始处理结果...\u001b[0m\n",
      "\u001b[32m2025-05-29 01:38:37.671\u001b[0m | \u001b[1mINFO    \u001b[0m | \u001b[36mlocal_interpreter\u001b[0m:\u001b[36mexecute_code\u001b[0m:\u001b[36m128\u001b[0m - \u001b[1mtext_to_gpt: ['[stdout]\\nhello world\\n']\u001b[0m\n"
     ]
    }
   ],
   "source": []
  },
  {
   "cell_type": "code",
   "execution_count": 3,
   "id": "c886b24c",
   "metadata": {},
   "outputs": [],
   "source": [
    "code_interpreter.initialize()"
   ]
  },
  {
   "cell_type": "code",
   "execution_count": 7,
   "id": "debc0398",
   "metadata": {},
   "outputs": [],
   "source": [
    "a= \"print('hello world')\"\n",
    "# text_to_gpt, error_occurred,error_message\n",
    "(a,b,c)=code_interpreter.execute_code(a)\n"
   ]
  },
  {
   "cell_type": "markdown",
   "id": "15089827",
   "metadata": {},
   "source": [
    "有代码运行环境，那么我可以直接用以下流程：\n",
    "增加一个字典，使用导入写\n"
   ]
  },
  {
   "cell_type": "markdown",
   "id": "fc9b0141",
   "metadata": {},
   "source": [
    "# 开源代码"
   ]
  },
  {
   "cell_type": "markdown",
   "id": "3b53e79e",
   "metadata": {},
   "source": [
    "### 第一步planner"
   ]
  },
  {
   "cell_type": "code",
   "execution_count": 4,
   "id": "3ca4f1ba",
   "metadata": {},
   "outputs": [],
   "source": [
    "from planner.tools import get_pla_user\n",
    "from planner.prompt import get_planer\n",
    "from utils.api import gpt_chat\n",
    "type=\"opt\"\n",
    "question=\"./test_case/o4/question.txt\"\n",
    "\n",
    "planer = get_planer(problem_type=type)\n",
    "info = get_pla_user(ques=question,problem_type=type)\n",
    "\n",
    "# response1 = gpt_chat(sys=planer,user=info,provider=\"deepseek\")\n"
   ]
  },
  {
   "cell_type": "markdown",
   "id": "3c6dcc53",
   "metadata": {},
   "source": [
    "## 匹配函数"
   ]
  },
  {
   "cell_type": "code",
   "execution_count": 2,
   "id": "7c00e402",
   "metadata": {},
   "outputs": [
    {
     "name": "stderr",
     "output_type": "stream",
     "text": [
      "/home/zyx/anaconda3/envs/base1/lib/python3.10/site-packages/tqdm/auto.py:21: TqdmWarning: IProgress not found. Please update jupyter and ipywidgets. See https://ipywidgets.readthedocs.io/en/stable/user_install.html\n",
      "  from .autonotebook import tqdm as notebook_tqdm\n"
     ]
    }
   ],
   "source": [
    "from planner.tools import get_plan\n",
    "from utils.rag import ChoromaDBManager\n",
    "\n",
    "plan = get_plan(str_path=\"./test_case/o4/plan_deepseek.txt\")\n",
    "chroma_db = ChoromaDBManager(\"./test_case/o4/tool_db\")"
   ]
  },
  {
   "cell_type": "code",
   "execution_count": 2,
   "id": "ac4f4318",
   "metadata": {},
   "outputs": [
    {
     "name": "stdout",
     "output_type": "stream",
     "text": [
      "✅ 已存储: statistic.md (包含 2 个工具块)\n",
      "✅ 已存储: data_clean.md (包含 5 个工具块)\n",
      "✅ 已存储: graph_optimization.md (包含 5 个工具块)\n",
      "✅ 已存储: machine_learning.md (包含 15 个工具块)\n",
      "✅ 已存储: math_optimization.md (包含 10 个工具块)\n",
      "✅ 已存储: feature_process.md (包含 7 个工具块)\n",
      "✅ 已存储: evaluate_model.md (包含 3 个工具块)\n"
     ]
    }
   ],
   "source": [
    "chroma_db.store_tools_to_db(dir_path=\"./tool_doc_md\")"
   ]
  },
  {
   "cell_type": "code",
   "execution_count": null,
   "id": "75ede46f",
   "metadata": {},
   "outputs": [
    {
     "data": {
      "text/plain": [
       "[{'tool_name': 'solve_lp',\n",
       "  'content': '**Name:** solve_lp  \\n**Description:** 用于简单线性规划问题，线性规划求解函数。\\n**Applicable Situations:**  \\n- 需要求解目标函数最小化的线性规划问题  \\n\\n**Parameters:**  \\n- `c`:  \\n  - \\u200b**Type:** `array-like`  \\n  - \\u200b**Description:** 目标函数系数向量，维度需与变量数一致  \\n\\n- `A_ub`:  \\n  - \\u200b**Type:** `2D array-like | None`  \\n  - \\u200b**Description:** 不等式约束系数矩阵（默认None），每行对应一个约束条件  \\n\\n- `b_ub`:  \\n  - \\u200b**Type:** `array-like | None`  \\n  - \\u200b**Description:** 不等式约束右侧常数向量（默认None）  \\n\\n- `A_eq`:  \\n  - \\u200b**Type:** `2D array-like | None`  \\n  - \\u200b**Description:** 等式约束系数矩阵（默认None）  \\n\\n- `b_eq`:  \\n  - \\u200b**Type:** `array-like | None`  \\n  - \\u200b**Description:** 等式约束右侧常数向量（默认None）  \\n\\n- `bounds`:  \\n  - \\u200b**Type:** `list of tuples | None`  \\n  - \\u200b**Description:** 变量边界列表（默认None），每个元组表示变量下界和上界  \\n  - \\u200b**Example:** `[(0, None), (0, 5)]` 表示x₁≥0，x₂∈[0,5]  \\n\\n**Result:**  \\n- 成功时返回包含最优解x和最优值fun的元组  \\n- 失败时返回包含错误信息的字符串  \\n\\n**Example Call:**  \\n```python\\n# 求解 min -x1 + 4x2 \\n# s.t.  x1 + x2 <= 5\\n#       2x1 + x2 = 4\\n#       x1 ∈ [0,3], x2 ≥ 0\\nx_opt, f_opt = solve_lp(\\n    c=[-1, 4],\\n    A_ub=[[1, 1]],\\n    b_ub=[5],\\n    A_eq=[[2, 1]],\\n    b_eq=[4],\\n    bounds=[(0, 3), (0, None)]\\n)\\n```',\n",
       "  'source_file': 'math_optimization.md',\n",
       "  'distance': 0.5363641381263733}]"
      ]
     },
     "execution_count": 9,
     "metadata": {},
     "output_type": "execute_result"
    }
   ],
   "source": [
    "funcs=chroma_db.get_all_tools(plan)"
   ]
  },
  {
   "cell_type": "markdown",
   "id": "c7ff00fd",
   "metadata": {},
   "source": [
    "## Developer"
   ]
  },
  {
   "cell_type": "code",
   "execution_count": null,
   "id": "5a0102ce",
   "metadata": {},
   "outputs": [],
   "source": [
    "from developer.prompt import get_developer\n",
    "from developer.tools import get_dev_user\n",
    "funcs = [{'tool_name': 'solve_lp',\n",
    "  'content': '**Name:** solve_lp  \\n**Description:** 用于简单线性规划问题，线性规划求解函数。\\n**Applicable Situations:**  \\n- 需要求解目标函数最小化的线性规划问题  \\n\\n**Parameters:**  \\n- `c`:  \\n  - \\u200b**Type:** `array-like`  \\n  - \\u200b**Description:** 目标函数系数向量，维度需与变量数一致  \\n\\n- `A_ub`:  \\n  - \\u200b**Type:** `2D array-like | None`  \\n  - \\u200b**Description:** 不等式约束系数矩阵（默认None），每行对应一个约束条件  \\n\\n- `b_ub`:  \\n  - \\u200b**Type:** `array-like | None`  \\n  - \\u200b**Description:** 不等式约束右侧常数向量（默认None）  \\n\\n- `A_eq`:  \\n  - \\u200b**Type:** `2D array-like | None`  \\n  - \\u200b**Description:** 等式约束系数矩阵（默认None）  \\n\\n- `b_eq`:  \\n  - \\u200b**Type:** `array-like | None`  \\n  - \\u200b**Description:** 等式约束右侧常数向量（默认None）  \\n\\n- `bounds`:  \\n  - \\u200b**Type:** `list of tuples | None`  \\n  - \\u200b**Description:** 变量边界列表（默认None），每个元组表示变量下界和上界  \\n  - \\u200b**Example:** `[(0, None), (0, 5)]` 表示x₁≥0，x₂∈[0,5]  \\n\\n**Result:**  \\n- 成功时返回包含最优解x和最优值fun的元组  \\n- 失败时返回包含错误信息的字符串  \\n\\n**Example Call:**  \\n```python\\n# 求解 min -x1 + 4x2 \\n# s.t.  x1 + x2 <= 5\\n#       2x1 + x2 = 4\\n#       x1 ∈ [0,3], x2 ≥ 0\\nx_opt, f_opt = solve_lp(\\n    c=[-1, 4],\\n    A_ub=[[1, 1]],\\n    b_ub=[5],\\n    A_eq=[[2, 1]],\\n    b_eq=[4],\\n    bounds=[(0, 3), (0, None)]\\n)\\n```',\n",
    "  'source_file': 'math_optimization.md',\n",
    "  'distance': 0.5363641381263733}]\n",
    "devloper_prompt = get_developer(problem_type=type,func=funcs)\n",
    "user2 = get_dev_user(question=question,problem_type=type)\n",
    "\n",
    "# response2 = gpt_chat(sys=devloper_prompt,user=user2)"
   ]
  },
  {
   "cell_type": "markdown",
   "id": "21679bcb",
   "metadata": {},
   "source": [
    "## 编译"
   ]
  },
  {
   "cell_type": "code",
   "execution_count": null,
   "id": "32c95006",
   "metadata": {},
   "outputs": [],
   "source": []
  },
  {
   "cell_type": "code",
   "execution_count": null,
   "id": "dd44d868",
   "metadata": {},
   "outputs": [],
   "source": []
  },
  {
   "cell_type": "code",
   "execution_count": 8,
   "id": "95c02584",
   "metadata": {},
   "outputs": [],
   "source": [
    "from utils.notebook_serializer import NotebookSerializer\n",
    "from utils.local_interpreter import LocalCodeInterpreter\n",
    "import sys\n",
    "import json\n",
    "import os\n",
    "dirname = \"./\"\n",
    "notebook = NotebookSerializer(dirname)\n",
    "\n",
    "# agents code执行\n",
    "code_interpreter = LocalCodeInterpreter(work_dir=dirname,notebook_serializer=notebook,task_id=\"111\")\n",
    "code_interpreter.initialize()"
   ]
  }
 ],
 "metadata": {
  "kernelspec": {
   "display_name": "base1",
   "language": "python",
   "name": "python3"
  },
  "language_info": {
   "codemirror_mode": {
    "name": "ipython",
    "version": 3
   },
   "file_extension": ".py",
   "mimetype": "text/x-python",
   "name": "python",
   "nbconvert_exporter": "python",
   "pygments_lexer": "ipython3",
   "version": "3.10.4"
  }
 },
 "nbformat": 4,
 "nbformat_minor": 5
}
