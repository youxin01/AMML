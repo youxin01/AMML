{
 "cells": [
  {
   "cell_type": "code",
   "execution_count": null,
   "id": "1ecd9016",
   "metadata": {},
   "outputs": [
    {
     "ename": "Error",
     "evalue": "Error message",
     "output_type": "error",
     "traceback": [
      "---------------------------------------------------------------------------\nModuleNotFoundError                       Traceback (most recent call last)\nCell In[2], line 1\n----> 1 from api import gpt_chat\n\nModuleNotFoundError: No module named 'api'"
     ]
    }
   ],
   "source": [
    "from api import gpt_chat"
   ]
  },
  {
   "cell_type": "code",
   "execution_count": null,
   "id": "c7e343d5",
   "metadata": {},
   "outputs": [
    {
     "data": {
      "text/html": [
       "<!DOCTYPE HTML PUBLIC \"-//W3C//DTD HTML 4.01 Transitional//EN\" \"http://www.w3.org/TR/html4/loose.dtd\">\n",
       "<html>\n",
       "<head>\n",
       "<meta http-equiv=\"Content-Type\" content=\"text/html; charset=utf-8\">\n",
       "<title></title>\n",
       "<style type=\"text/css\">\n",
       ".ansi2html-content { display: inline; white-space: pre-wrap; word-wrap: break-word; }\n",
       ".body_foreground { color: #AAAAAA; }\n",
       ".body_background { background-color: #000000; }\n",
       ".inv_foreground { color: #000000; }\n",
       ".inv_background { background-color: #AAAAAA; }\n",
       "</style>\n",
       "</head>\n",
       "<body class=\"body_foreground body_background\" style=\"font-size: normal;\" >\n",
       "<pre class=\"ansi2html-content\">\n",
       "Current Working Directory: /home/zyx/A-Projects/Graduation/embedding/opencode/test_case/o4\n",
       "sys.path: ['/home/zyx/anaconda3/envs/base1/lib/python310.zip', '/home/zyx/anaconda3/envs/base1/lib/python3.10', '/home/zyx/anaconda3/envs/base1/lib/python3.10/lib-dynload', '', '/home/zyx/anaconda3/envs/base1/lib/python3.10/site-packages', '/home/zyx/A-Projects/owl']\n",
       "\n",
       "</pre>\n",
       "</body>\n",
       "\n",
       "</html>\n"
      ]
     },
     "metadata": {},
     "output_type": "display_data"
    }
   ],
   "source": [
    "\n",
    "import os, sys\n",
    "print(\"Current Working Directory:\", os.getcwd())\n",
    "print(\"sys.path:\", sys.path)\n"
   ]
  }
 ],
 "metadata": {},
 "nbformat": 4,
 "nbformat_minor": 5
}